{
  "nbformat": 4,
  "nbformat_minor": 0,
  "metadata": {
    "colab": {
      "provenance": [],
      "toc_visible": true,
      "authorship_tag": "ABX9TyMlRFJUWhvxsxvqknMsdJIZ",
      "include_colab_link": true
    },
    "kernelspec": {
      "name": "python3",
      "display_name": "Python 3"
    },
    "language_info": {
      "name": "python"
    }
  },
  "cells": [
    {
      "cell_type": "markdown",
      "metadata": {
        "id": "view-in-github",
        "colab_type": "text"
      },
      "source": [
        "<a href=\"https://colab.research.google.com/github/WilliamLu1999/Data-Projects/blob/main/reddit_api_sentiment_analysis_spark.ipynb\" target=\"_parent\"><img src=\"https://colab.research.google.com/assets/colab-badge.svg\" alt=\"Open In Colab\"/></a>"
      ]
    },
    {
      "cell_type": "markdown",
      "source": [
        "# Sentiment Analysis on Reddit's API Charging Policy\n",
        "### Table of Contents\n",
        "* [Introduction](#section-1)\n",
        "* [Ask: Questions, Hypothesis](#section-2)\n",
        "* [Prepare: Scrape Data](#section-3)\n",
        "* [Process: Clean Data](#section-4)\n",
        "* [Analyze: Sentiment Analysis and Visualizations](#section-5)\n",
        "* [Share: Insights](#section-6)\n",
        "* [Act: Web Application](#section-7)"
      ],
      "metadata": {
        "id": "eCyw8Ig8LIJF"
      }
    },
    {
      "cell_type": "markdown",
      "source": [
        "<a id=\"section-1\"></a>\n",
        "### Introduction\n",
        "\n",
        "*A. Backgroud*\n",
        "\n",
        "\n",
        "Reddit is one of the biggest social media platforms that consists tons of niches (subreddits), covering a myriad of topics. Users (redditors) can create, share, comment, vote,etc. contents on Reddit.\n",
        "\n",
        "*B. What happened?*\n",
        "\n",
        "However, in April 2023, Reddit announced a new policy, which mainly stated that Reddit would start to charge third-party-applications for using its application-programming interface (API). API is a way for two or more computer programs to communicate with each other. It is a type of software interface, offering a service to other pieces of software. <wiki> Reddit's API was free to use since 2005 till 2023.\n",
        "\n",
        "Now many applications that provide great service by adopting the free use of Reddit's API before are starting to shut down. For example, Apollo ReddPlanet and Sync (both are applications that provide a smooth and beautiful interface for browsing Reddit contents). Besides business shutting down, redditors also protest against this move -- nearly 9,000 subreddits went dark as an act of rebellion starting June 12, some of which with 30 million subscribers.\n",
        "\n",
        "\n",
        "*C. Why this happened?*\n",
        "\n",
        "According to Reddit CEO Steve Huffman, big tech companies such as Google, Microsoft, and OpenAI are using Reddit's contents to train LLM and for other AI usage.\n",
        "\n",
        "\n",
        "\n",
        "Souces:\n"
      ],
      "metadata": {
        "id": "qtNeRur9NCQI"
      }
    },
    {
      "cell_type": "markdown",
      "source": [
        "<a id=\"section-2\"></a>\n",
        "### Ask: Questions, Hypothesis\n"
      ],
      "metadata": {
        "id": "E8Lx9QXeeyf2"
      }
    },
    {
      "cell_type": "code",
      "execution_count": null,
      "metadata": {
        "id": "gkZwynwkK0fS"
      },
      "outputs": [],
      "source": [
        "<a id=\"section-2\"></a>\n",
        "### Introduction\n"
      ]
    }
  ]
}