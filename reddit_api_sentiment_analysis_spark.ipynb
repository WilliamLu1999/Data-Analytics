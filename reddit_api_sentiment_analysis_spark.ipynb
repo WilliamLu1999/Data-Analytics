{
  "nbformat": 4,
  "nbformat_minor": 0,
  "metadata": {
    "colab": {
      "provenance": [],
      "toc_visible": true,
      "authorship_tag": "ABX9TyNHuraspFiacZDRvATriptb",
      "include_colab_link": true
    },
    "kernelspec": {
      "name": "python3",
      "display_name": "Python 3"
    },
    "language_info": {
      "name": "python"
    }
  },
  "cells": [
    {
      "cell_type": "markdown",
      "metadata": {
        "id": "view-in-github",
        "colab_type": "text"
      },
      "source": [
        "<a href=\"https://colab.research.google.com/github/WilliamLu1999/Data-Projects/blob/main/reddit_api_sentiment_analysis_spark.ipynb\" target=\"_parent\"><img src=\"https://colab.research.google.com/assets/colab-badge.svg\" alt=\"Open In Colab\"/></a>"
      ]
    },
    {
      "cell_type": "markdown",
      "source": [
        "# Sentiment Analysis on Reddit's API Charging Policy\n",
        "### Table of Contents\n",
        "* [Introduction: Why](#section-1)\n",
        "* [Ask: Questions, Hypothesis](#section-2)\n",
        "* [Prepare: Scrape Data](#section-3)\n",
        "* [Process: Clean Data](#section-4)\n",
        "* [Analyze: Sentiment Analysis and Visualizations](#section-5)\n",
        "* [Share: Insights](#section-6)\n",
        "* [Act: Web Application](#section-7)"
      ],
      "metadata": {
        "id": "eCyw8Ig8LIJF"
      }
    },
    {
      "cell_type": "markdown",
      "source": [
        "<a id=\"section-1\"></a>\n",
        "### Introduction"
      ],
      "metadata": {
        "id": "qtNeRur9NCQI"
      }
    },
    {
      "cell_type": "code",
      "execution_count": null,
      "metadata": {
        "id": "gkZwynwkK0fS"
      },
      "outputs": [],
      "source": [
        "\n"
      ]
    }
  ]
}